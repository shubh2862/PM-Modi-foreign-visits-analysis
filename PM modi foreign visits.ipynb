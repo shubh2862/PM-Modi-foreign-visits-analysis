{
 "cells": [
  {
   "cell_type": "code",
   "execution_count": 2,
   "metadata": {},
   "outputs": [],
   "source": [
    "import pandas as pd\n",
    "import numpy as np\n",
    "import matplotlib.pyplot as plt\n",
    "import seaborn as sns\n",
    "import warnings\n",
    "warnings.filterwarnings(\"ignore\")"
   ]
  },
  {
   "cell_type": "code",
   "execution_count": 5,
   "metadata": {},
   "outputs": [],
   "source": [
    "data = pd.read_csv(\"foreign_visits_PM_Modi.csv\")\n"
   ]
  },
  {
   "cell_type": "code",
   "execution_count": 6,
   "metadata": {},
   "outputs": [
    {
     "data": {
      "text/html": [
       "<div>\n",
       "<style scoped>\n",
       "    .dataframe tbody tr th:only-of-type {\n",
       "        vertical-align: middle;\n",
       "    }\n",
       "\n",
       "    .dataframe tbody tr th {\n",
       "        vertical-align: top;\n",
       "    }\n",
       "\n",
       "    .dataframe thead th {\n",
       "        text-align: right;\n",
       "    }\n",
       "</style>\n",
       "<table border=\"1\" class=\"dataframe\">\n",
       "  <thead>\n",
       "    <tr style=\"text-align: right;\">\n",
       "      <th></th>\n",
       "      <th>Unnamed: 0</th>\n",
       "      <th>place_of_visit</th>\n",
       "      <th>visit_start</th>\n",
       "      <th>visit_end</th>\n",
       "      <th>num_days</th>\n",
       "      <th>flight_expense</th>\n",
       "    </tr>\n",
       "  </thead>\n",
       "  <tbody>\n",
       "    <tr>\n",
       "      <th>0</th>\n",
       "      <td>0</td>\n",
       "      <td>Bhutan</td>\n",
       "      <td>2014-06-15</td>\n",
       "      <td>2014-06-16</td>\n",
       "      <td>1.0</td>\n",
       "      <td>24527465.0</td>\n",
       "    </tr>\n",
       "    <tr>\n",
       "      <th>1</th>\n",
       "      <td>1</td>\n",
       "      <td>Brazil</td>\n",
       "      <td>2014-07-13</td>\n",
       "      <td>2014-07-17</td>\n",
       "      <td>4.0</td>\n",
       "      <td>203548000.0</td>\n",
       "    </tr>\n",
       "    <tr>\n",
       "      <th>2</th>\n",
       "      <td>2</td>\n",
       "      <td>Nepal</td>\n",
       "      <td>2014-08-03</td>\n",
       "      <td>2014-08-05</td>\n",
       "      <td>2.0</td>\n",
       "      <td>NaN</td>\n",
       "    </tr>\n",
       "    <tr>\n",
       "      <th>3</th>\n",
       "      <td>3</td>\n",
       "      <td>Japan</td>\n",
       "      <td>2014-08-30</td>\n",
       "      <td>2014-09-03</td>\n",
       "      <td>4.0</td>\n",
       "      <td>134758000.0</td>\n",
       "    </tr>\n",
       "    <tr>\n",
       "      <th>4</th>\n",
       "      <td>4</td>\n",
       "      <td>USA</td>\n",
       "      <td>2014-09-25</td>\n",
       "      <td>2014-10-01</td>\n",
       "      <td>6.0</td>\n",
       "      <td>190460000.0</td>\n",
       "    </tr>\n",
       "  </tbody>\n",
       "</table>\n",
       "</div>"
      ],
      "text/plain": [
       "   Unnamed: 0 place_of_visit visit_start   visit_end  num_days  flight_expense\n",
       "0           0         Bhutan  2014-06-15  2014-06-16       1.0      24527465.0\n",
       "1           1         Brazil  2014-07-13  2014-07-17       4.0     203548000.0\n",
       "2           2          Nepal  2014-08-03  2014-08-05       2.0             NaN\n",
       "3           3          Japan  2014-08-30  2014-09-03       4.0     134758000.0\n",
       "4           4            USA  2014-09-25  2014-10-01       6.0     190460000.0"
      ]
     },
     "execution_count": 6,
     "metadata": {},
     "output_type": "execute_result"
    }
   ],
   "source": [
    "data.head()\n"
   ]
  },
  {
   "cell_type": "code",
   "execution_count": 7,
   "metadata": {},
   "outputs": [
    {
     "data": {
      "text/html": [
       "<div>\n",
       "<style scoped>\n",
       "    .dataframe tbody tr th:only-of-type {\n",
       "        vertical-align: middle;\n",
       "    }\n",
       "\n",
       "    .dataframe tbody tr th {\n",
       "        vertical-align: top;\n",
       "    }\n",
       "\n",
       "    .dataframe thead th {\n",
       "        text-align: right;\n",
       "    }\n",
       "</style>\n",
       "<table border=\"1\" class=\"dataframe\">\n",
       "  <thead>\n",
       "    <tr style=\"text-align: right;\">\n",
       "      <th></th>\n",
       "      <th>Unnamed: 0</th>\n",
       "      <th>place_of_visit</th>\n",
       "      <th>visit_start</th>\n",
       "      <th>visit_end</th>\n",
       "      <th>num_days</th>\n",
       "      <th>flight_expense</th>\n",
       "    </tr>\n",
       "  </thead>\n",
       "  <tbody>\n",
       "    <tr>\n",
       "      <th>88</th>\n",
       "      <td>88</td>\n",
       "      <td>Japan</td>\n",
       "      <td>2018-10-27</td>\n",
       "      <td>2018-10-30</td>\n",
       "      <td>3.0</td>\n",
       "      <td>NaN</td>\n",
       "    </tr>\n",
       "    <tr>\n",
       "      <th>89</th>\n",
       "      <td>89</td>\n",
       "      <td>Singapore</td>\n",
       "      <td>2018-11-13</td>\n",
       "      <td>2018-11-15</td>\n",
       "      <td>2.0</td>\n",
       "      <td>NaN</td>\n",
       "    </tr>\n",
       "    <tr>\n",
       "      <th>90</th>\n",
       "      <td>90</td>\n",
       "      <td>Maldives</td>\n",
       "      <td>2018-11-17</td>\n",
       "      <td>2018-11-17</td>\n",
       "      <td>0.0</td>\n",
       "      <td>NaN</td>\n",
       "    </tr>\n",
       "    <tr>\n",
       "      <th>91</th>\n",
       "      <td>91</td>\n",
       "      <td>Argentina</td>\n",
       "      <td>2018-11-28</td>\n",
       "      <td>2018-12-03</td>\n",
       "      <td>5.0</td>\n",
       "      <td>NaN</td>\n",
       "    </tr>\n",
       "    <tr>\n",
       "      <th>92</th>\n",
       "      <td>92</td>\n",
       "      <td>South Korea</td>\n",
       "      <td>2019-02-21</td>\n",
       "      <td>2019-02-22</td>\n",
       "      <td>1.0</td>\n",
       "      <td>NaN</td>\n",
       "    </tr>\n",
       "  </tbody>\n",
       "</table>\n",
       "</div>"
      ],
      "text/plain": [
       "    Unnamed: 0 place_of_visit visit_start   visit_end  num_days  \\\n",
       "88          88          Japan  2018-10-27  2018-10-30       3.0   \n",
       "89          89      Singapore  2018-11-13  2018-11-15       2.0   \n",
       "90          90       Maldives  2018-11-17  2018-11-17       0.0   \n",
       "91          91      Argentina  2018-11-28  2018-12-03       5.0   \n",
       "92          92    South Korea  2019-02-21  2019-02-22       1.0   \n",
       "\n",
       "    flight_expense  \n",
       "88             NaN  \n",
       "89             NaN  \n",
       "90             NaN  \n",
       "91             NaN  \n",
       "92             NaN  "
      ]
     },
     "execution_count": 7,
     "metadata": {},
     "output_type": "execute_result"
    }
   ],
   "source": [
    "data.tail()\n"
   ]
  },
  {
   "cell_type": "code",
   "execution_count": 9,
   "metadata": {},
   "outputs": [
    {
     "data": {
      "text/plain": [
       "(93, 6)"
      ]
     },
     "execution_count": 9,
     "metadata": {},
     "output_type": "execute_result"
    }
   ],
   "source": [
    "data.shape"
   ]
  },
  {
   "cell_type": "code",
   "execution_count": 10,
   "metadata": {},
   "outputs": [
    {
     "data": {
      "text/plain": [
       "Index(['Unnamed: 0', 'place_of_visit', 'visit_start', 'visit_end', 'num_days',\n",
       "       'flight_expense'],\n",
       "      dtype='object')"
      ]
     },
     "execution_count": 10,
     "metadata": {},
     "output_type": "execute_result"
    }
   ],
   "source": [
    "data.columns"
   ]
  },
  {
   "cell_type": "code",
   "execution_count": 11,
   "metadata": {},
   "outputs": [
    {
     "name": "stdout",
     "output_type": "stream",
     "text": [
      "<class 'pandas.core.frame.DataFrame'>\n",
      "RangeIndex: 93 entries, 0 to 92\n",
      "Data columns (total 6 columns):\n",
      " #   Column          Non-Null Count  Dtype  \n",
      "---  ------          --------------  -----  \n",
      " 0   Unnamed: 0      93 non-null     int64  \n",
      " 1   place_of_visit  93 non-null     object \n",
      " 2   visit_start     93 non-null     object \n",
      " 3   visit_end       93 non-null     object \n",
      " 4   num_days        93 non-null     float64\n",
      " 5   flight_expense  82 non-null     float64\n",
      "dtypes: float64(2), int64(1), object(3)\n",
      "memory usage: 4.5+ KB\n"
     ]
    }
   ],
   "source": [
    "data.info()\n"
   ]
  },
  {
   "cell_type": "code",
   "execution_count": 12,
   "metadata": {},
   "outputs": [
    {
     "data": {
      "text/html": [
       "<div>\n",
       "<style scoped>\n",
       "    .dataframe tbody tr th:only-of-type {\n",
       "        vertical-align: middle;\n",
       "    }\n",
       "\n",
       "    .dataframe tbody tr th {\n",
       "        vertical-align: top;\n",
       "    }\n",
       "\n",
       "    .dataframe thead th {\n",
       "        text-align: right;\n",
       "    }\n",
       "</style>\n",
       "<table border=\"1\" class=\"dataframe\">\n",
       "  <thead>\n",
       "    <tr style=\"text-align: right;\">\n",
       "      <th></th>\n",
       "      <th>Unnamed: 0</th>\n",
       "      <th>num_days</th>\n",
       "      <th>flight_expense</th>\n",
       "    </tr>\n",
       "  </thead>\n",
       "  <tbody>\n",
       "    <tr>\n",
       "      <th>count</th>\n",
       "      <td>93.000000</td>\n",
       "      <td>93.000000</td>\n",
       "      <td>8.200000e+01</td>\n",
       "    </tr>\n",
       "    <tr>\n",
       "      <th>mean</th>\n",
       "      <td>46.000000</td>\n",
       "      <td>1.634409</td>\n",
       "      <td>5.302278e+07</td>\n",
       "    </tr>\n",
       "    <tr>\n",
       "      <th>std</th>\n",
       "      <td>26.990739</td>\n",
       "      <td>1.066128</td>\n",
       "      <td>3.684323e+07</td>\n",
       "    </tr>\n",
       "    <tr>\n",
       "      <th>min</th>\n",
       "      <td>0.000000</td>\n",
       "      <td>0.000000</td>\n",
       "      <td>1.610930e+07</td>\n",
       "    </tr>\n",
       "    <tr>\n",
       "      <th>25%</th>\n",
       "      <td>23.000000</td>\n",
       "      <td>1.000000</td>\n",
       "      <td>3.103612e+07</td>\n",
       "    </tr>\n",
       "    <tr>\n",
       "      <th>50%</th>\n",
       "      <td>46.000000</td>\n",
       "      <td>1.000000</td>\n",
       "      <td>4.369621e+07</td>\n",
       "    </tr>\n",
       "    <tr>\n",
       "      <th>75%</th>\n",
       "      <td>69.000000</td>\n",
       "      <td>2.000000</td>\n",
       "      <td>6.032600e+07</td>\n",
       "    </tr>\n",
       "    <tr>\n",
       "      <th>max</th>\n",
       "      <td>92.000000</td>\n",
       "      <td>6.000000</td>\n",
       "      <td>2.035480e+08</td>\n",
       "    </tr>\n",
       "  </tbody>\n",
       "</table>\n",
       "</div>"
      ],
      "text/plain": [
       "       Unnamed: 0   num_days  flight_expense\n",
       "count   93.000000  93.000000    8.200000e+01\n",
       "mean    46.000000   1.634409    5.302278e+07\n",
       "std     26.990739   1.066128    3.684323e+07\n",
       "min      0.000000   0.000000    1.610930e+07\n",
       "25%     23.000000   1.000000    3.103612e+07\n",
       "50%     46.000000   1.000000    4.369621e+07\n",
       "75%     69.000000   2.000000    6.032600e+07\n",
       "max     92.000000   6.000000    2.035480e+08"
      ]
     },
     "execution_count": 12,
     "metadata": {},
     "output_type": "execute_result"
    }
   ],
   "source": [
    "data.describe()"
   ]
  },
  {
   "cell_type": "code",
   "execution_count": 13,
   "metadata": {},
   "outputs": [
    {
     "data": {
      "text/plain": [
       "Unnamed: 0         0\n",
       "place_of_visit     0\n",
       "visit_start        0\n",
       "visit_end          0\n",
       "num_days           0\n",
       "flight_expense    11\n",
       "dtype: int64"
      ]
     },
     "execution_count": 13,
     "metadata": {},
     "output_type": "execute_result"
    }
   ],
   "source": [
    "data.isnull().sum()\n"
   ]
  },
  {
   "cell_type": "code",
   "execution_count": 14,
   "metadata": {},
   "outputs": [
    {
     "data": {
      "text/plain": [
       "array(['Bhutan', 'Brazil', 'Nepal', 'Japan', 'USA', 'Myanmar',\n",
       "       'Australia', 'Fiji', 'Seychelles', 'Mauritius', 'Sri Lanka',\n",
       "       'Singapore', 'France', 'Germany', 'Canada', 'China ', 'Mongolia',\n",
       "       'South Korea', 'Bangladesh', 'Uzbekistan', 'Kazakhstan', 'Russia',\n",
       "       'Turkmenistan', 'Kyrgyzstan', 'Tajikistan', 'United Arab Emirates',\n",
       "       'Ireland', 'UK', 'Turkey', 'Malaysia', 'Afghanistan', 'Pakistan',\n",
       "       'Belgium', 'Saudi Arabia', 'Iran', 'Qatar', 'Switzerland',\n",
       "       'Mexico', 'Mozambique', 'South Africa', 'Tanzania', 'Kenya',\n",
       "       'Vietnam', 'China', 'Laos', 'Germany ', 'Spain', 'Portugal',\n",
       "       'Netherlands', 'Israel', 'Philippines', 'Jordan', 'Palestine',\n",
       "       'UAE', 'Oman', 'Sweden', 'Indonesia', 'Rwanda', 'Uganda',\n",
       "       'Maldives', 'Argentina'], dtype=object)"
      ]
     },
     "execution_count": 14,
     "metadata": {},
     "output_type": "execute_result"
    }
   ],
   "source": [
    "data.place_of_visit.unique()"
   ]
  },
  {
   "cell_type": "code",
   "execution_count": 15,
   "metadata": {},
   "outputs": [
    {
     "data": {
      "text/plain": [
       "USA             5\n",
       "Nepal           4\n",
       "China           4\n",
       "Russia          4\n",
       "Singapore       4\n",
       "               ..\n",
       "Pakistan        1\n",
       "Belgium         1\n",
       "Saudi Arabia    1\n",
       "Iran            1\n",
       "Argentina       1\n",
       "Name: place_of_visit, Length: 61, dtype: int64"
      ]
     },
     "execution_count": 15,
     "metadata": {},
     "output_type": "execute_result"
    }
   ],
   "source": [
    "data.place_of_visit.value_counts()"
   ]
  },
  {
   "cell_type": "code",
   "execution_count": 16,
   "metadata": {},
   "outputs": [
    {
     "data": {
      "image/png": "[encoded data removed]",
      "text/plain": [
       "<Figure size 1080x432 with 1 Axes>"
      ]
     },
     "metadata": {
      "needs_background": "light"
     },
     "output_type": "display_data"
    }
   ],
   "source": [
    "plt.figure(figsize=(15,6))\n",
    "sns.countplot('place_of_visit', data = data, palette='hls')\n",
    "plt.xticks(rotation = 90)\n",
    "plt.show()"
   ]
  },
  {
   "cell_type": "code",
   "execution_count": 24,
   "metadata": {},
   "outputs": [
    {
     "ename": "AttributeError",
     "evalue": "'DataFrame' object has no attribute 'expenses_incurred_on_chartered_flight_rs'",
     "output_type": "error",
     "traceback": [
      "\u001b[1;31m---------------------------------------------------------------------------\u001b[0m",
      "\u001b[1;31mAttributeError\u001b[0m                            Traceback (most recent call last)",
      "\u001b[1;32mc:\\Users\\nigdi\\Downloads\\VS codes\\Pm modi foreign visits\\PM modi foreign visits.ipynb Cell 17\u001b[0m in \u001b[0;36m<cell line: 1>\u001b[1;34m()\u001b[0m\n\u001b[1;32m----> <a href='vscode-notebook-cell:/c%3A/Users/nigdi/Downloads/VS%20codes/Pm%20modi%20foreign%20visits/PM%20modi%20foreign%20visits.ipynb#ch0000022?line=0'>1</a>\u001b[0m data1\u001b[39m=\u001b[39mdata[data\u001b[39m.\u001b[39;49mexpenses_incurred_on_chartered_flight_rs\u001b[39m.\u001b[39mnotnull()]\n",
      "File \u001b[1;32m~\\AppData\\Local\\Packages\\PythonSoftwareFoundation.Python.3.9_qbz5n2kfra8p0\\LocalCache\\local-packages\\Python39\\site-packages\\pandas\\core\\generic.py:5575\u001b[0m, in \u001b[0;36mNDFrame.__getattr__\u001b[1;34m(self, name)\u001b[0m\n\u001b[0;32m   5568\u001b[0m \u001b[39mif\u001b[39;00m (\n\u001b[0;32m   5569\u001b[0m     name \u001b[39mnot\u001b[39;00m \u001b[39min\u001b[39;00m \u001b[39mself\u001b[39m\u001b[39m.\u001b[39m_internal_names_set\n\u001b[0;32m   5570\u001b[0m     \u001b[39mand\u001b[39;00m name \u001b[39mnot\u001b[39;00m \u001b[39min\u001b[39;00m \u001b[39mself\u001b[39m\u001b[39m.\u001b[39m_metadata\n\u001b[0;32m   5571\u001b[0m     \u001b[39mand\u001b[39;00m name \u001b[39mnot\u001b[39;00m \u001b[39min\u001b[39;00m \u001b[39mself\u001b[39m\u001b[39m.\u001b[39m_accessors\n\u001b[0;32m   5572\u001b[0m     \u001b[39mand\u001b[39;00m \u001b[39mself\u001b[39m\u001b[39m.\u001b[39m_info_axis\u001b[39m.\u001b[39m_can_hold_identifiers_and_holds_name(name)\n\u001b[0;32m   5573\u001b[0m ):\n\u001b[0;32m   5574\u001b[0m     \u001b[39mreturn\u001b[39;00m \u001b[39mself\u001b[39m[name]\n\u001b[1;32m-> 5575\u001b[0m \u001b[39mreturn\u001b[39;00m \u001b[39mobject\u001b[39;49m\u001b[39m.\u001b[39;49m\u001b[39m__getattribute__\u001b[39;49m(\u001b[39mself\u001b[39;49m, name)\n",
      "\u001b[1;31mAttributeError\u001b[0m: 'DataFrame' object has no attribute 'expenses_incurred_on_chartered_flight_rs'"
     ]
    }
   ],
   "source": []
  },
  {
   "cell_type": "code",
   "execution_count": 19,
   "metadata": {},
   "outputs": [
    {
     "data": {
      "text/plain": [
       "array([1. , 4. , 2. , 6. , 3. , 5. , 0.5, 1.5, 0. ])"
      ]
     },
     "execution_count": 19,
     "metadata": {},
     "output_type": "execute_result"
    }
   ],
   "source": [
    "data.num_days.unique()"
   ]
  },
  {
   "cell_type": "code",
   "execution_count": 20,
   "metadata": {},
   "outputs": [
    {
     "data": {
      "text/plain": [
       "1.0    44\n",
       "2.0    27\n",
       "3.0     7\n",
       "0.5     7\n",
       "4.0     3\n",
       "5.0     2\n",
       "6.0     1\n",
       "1.5     1\n",
       "0.0     1\n",
       "Name: num_days, dtype: int64"
      ]
     },
     "execution_count": 20,
     "metadata": {},
     "output_type": "execute_result"
    }
   ],
   "source": [
    "data.num_days.value_counts()\n"
   ]
  },
  {
   "cell_type": "code",
   "execution_count": 21,
   "metadata": {},
   "outputs": [
    {
     "data": {
      "image/png": "[encoded data removed]",
      "text/plain": [
       "<Figure size 1080x432 with 1 Axes>"
      ]
     },
     "metadata": {
      "needs_background": "light"
     },
     "output_type": "display_data"
    }
   ],
   "source": [
    "plt.figure(figsize=(15,6))\n",
    "sns.countplot('num_days', data = data, palette='hls')\n",
    "plt.xticks(rotation = 90)\n",
    "plt.show()\n"
   ]
  },
  {
   "cell_type": "code",
   "execution_count": 22,
   "metadata": {},
   "outputs": [
    {
     "name": "stdout",
     "output_type": "stream",
     "text": [
      "The number of days Prime Minister Modi spent in foreign visits: 0     1.0\n",
      "1     4.0\n",
      "2     2.0\n",
      "3     4.0\n",
      "4     6.0\n",
      "     ... \n",
      "88    3.0\n",
      "89    2.0\n",
      "90    0.0\n",
      "91    5.0\n",
      "92    1.0\n",
      "Name: num_days, Length: 93, dtype: float64\n"
     ]
    }
   ],
   "source": [
    "print('The number of days Prime Minister Modi spent in foreign visits:', data.num_days)"
   ]
  },
  {
   "cell_type": "code",
   "execution_count": 25,
   "metadata": {},
   "outputs": [
    {
     "ename": "AttributeError",
     "evalue": "'DataFrame' object has no attribute 'expenses_incurred_on_chartered_flight_rs'",
     "output_type": "error",
     "traceback": [
      "\u001b[1;31m---------------------------------------------------------------------------\u001b[0m",
      "\u001b[1;31mAttributeError\u001b[0m                            Traceback (most recent call last)",
      "\u001b[1;32mc:\\Users\\nigdi\\Downloads\\VS codes\\Pm modi foreign visits\\PM modi foreign visits.ipynb Cell 18\u001b[0m in \u001b[0;36m<cell line: 1>\u001b[1;34m()\u001b[0m\n\u001b[1;32m----> <a href='vscode-notebook-cell:/c%3A/Users/nigdi/Downloads/VS%20codes/Pm%20modi%20foreign%20visits/PM%20modi%20foreign%20visits.ipynb#ch0000024?line=0'>1</a>\u001b[0m data1\u001b[39m=\u001b[39mdata[data\u001b[39m.\u001b[39;49mexpenses_incurred_on_chartered_flight_rs\u001b[39m.\u001b[39mnotnull()]\n",
      "File \u001b[1;32m~\\AppData\\Local\\Packages\\PythonSoftwareFoundation.Python.3.9_qbz5n2kfra8p0\\LocalCache\\local-packages\\Python39\\site-packages\\pandas\\core\\generic.py:5575\u001b[0m, in \u001b[0;36mNDFrame.__getattr__\u001b[1;34m(self, name)\u001b[0m\n\u001b[0;32m   5568\u001b[0m \u001b[39mif\u001b[39;00m (\n\u001b[0;32m   5569\u001b[0m     name \u001b[39mnot\u001b[39;00m \u001b[39min\u001b[39;00m \u001b[39mself\u001b[39m\u001b[39m.\u001b[39m_internal_names_set\n\u001b[0;32m   5570\u001b[0m     \u001b[39mand\u001b[39;00m name \u001b[39mnot\u001b[39;00m \u001b[39min\u001b[39;00m \u001b[39mself\u001b[39m\u001b[39m.\u001b[39m_metadata\n\u001b[0;32m   5571\u001b[0m     \u001b[39mand\u001b[39;00m name \u001b[39mnot\u001b[39;00m \u001b[39min\u001b[39;00m \u001b[39mself\u001b[39m\u001b[39m.\u001b[39m_accessors\n\u001b[0;32m   5572\u001b[0m     \u001b[39mand\u001b[39;00m \u001b[39mself\u001b[39m\u001b[39m.\u001b[39m_info_axis\u001b[39m.\u001b[39m_can_hold_identifiers_and_holds_name(name)\n\u001b[0;32m   5573\u001b[0m ):\n\u001b[0;32m   5574\u001b[0m     \u001b[39mreturn\u001b[39;00m \u001b[39mself\u001b[39m[name]\n\u001b[1;32m-> 5575\u001b[0m \u001b[39mreturn\u001b[39;00m \u001b[39mobject\u001b[39;49m\u001b[39m.\u001b[39;49m\u001b[39m__getattribute__\u001b[39;49m(\u001b[39mself\u001b[39;49m, name)\n",
      "\u001b[1;31mAttributeError\u001b[0m: 'DataFrame' object has no attribute 'expenses_incurred_on_chartered_flight_rs'"
     ]
    }
   ],
   "source": [
    "data1=data[data.expenses_incurred_on_chartered_flight_rs.notnull()]\n"
   ]
  },
  {
   "cell_type": "code",
   "execution_count": null,
   "metadata": {},
   "outputs": [],
   "source": [
    "data2 = data1[data1.expenses_incurred_on_chartered_flight_rs != 'IAF BBJ Aircraft']"
   ]
  },
  {
   "cell_type": "code",
   "execution_count": null,
   "metadata": {},
   "outputs": [],
   "source": [
    "data2\n"
   ]
  },
  {
   "cell_type": "code",
   "execution_count": null,
   "metadata": {},
   "outputs": [
    {
     "ename": "NameError",
     "evalue": "name 'data2' is not defined",
     "output_type": "error",
     "traceback": [
      "\u001b[1;31m---------------------------------------------------------------------------\u001b[0m",
      "\u001b[1;31mNameError\u001b[0m                                 Traceback (most recent call last)",
      "\u001b[1;32mc:\\Users\\nigdi\\Downloads\\VS codes\\Pm modi foreign visits\\PM modi foreign visits.ipynb Cell 20\u001b[0m in \u001b[0;36m<cell line: 1>\u001b[1;34m()\u001b[0m\n\u001b[1;32m----> <a href='vscode-notebook-cell:/c%3A/Users/nigdi/Downloads/VS%20codes/Pm%20modi%20foreign%20visits/PM%20modi%20foreign%20visits.ipynb#ch0000019?line=0'>1</a>\u001b[0m data2[\u001b[39m'\u001b[39m\u001b[39mexpenses_incurred_on_chartered_flight_rs\u001b[39m\u001b[39m'\u001b[39m] \u001b[39m=\u001b[39m data2[\u001b[39m'\u001b[39m\u001b[39mexpenses_incurred_on_chartered_flights_rs\u001b[39m\u001b[39m'\u001b[39m]\n",
      "\u001b[1;31mNameError\u001b[0m: name 'data2' is not defined"
     ]
    }
   ],
   "source": [
    "data2['expenses_incurred_on_chartered_flight_rs'] = data2['expenses_incurred_on_chartered_flights_rs']"
   ]
  },
  {
   "cell_type": "code",
   "execution_count": null,
   "metadata": {},
   "outputs": [],
   "source": []
  },
  {
   "cell_type": "code",
   "execution_count": null,
   "metadata": {},
   "outputs": [],
   "source": []
  },
  {
   "cell_type": "code",
   "execution_count": null,
   "metadata": {},
   "outputs": [],
   "source": []
  },
  {
   "cell_type": "code",
   "execution_count": null,
   "metadata": {},
   "outputs": [],
   "source": []
  }
 ],
 "metadata": {
  "kernelspec": {
   "display_name": "Python 3.9.13 64-bit (windows store)",
   "language": "python",
   "name": "python3"
  },
  "language_info": {
   "codemirror_mode": {
    "name": "ipython",
    "version": 3
   },
   "file_extension": ".py",
   "mimetype": "text/x-python",
   "name": "python",
   "nbconvert_exporter": "python",
   "pygments_lexer": "ipython3",
   "version": "3.9.13"
  },
  "orig_nbformat": 4,
  "vscode": {
   "interpreter": {
    "hash": "f5b36eb6063c5de5f4a5f44722e11565d0762fe02341764f2fdf338c94107080"
   }
  }
 },
 "nbformat": 4,
 "nbformat_minor": 2
}
